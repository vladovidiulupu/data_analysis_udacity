{
 "metadata": {
  "name": "",
  "signature": "sha256:64208052896b28b575d81d2b1a34f42f5bcde72d01b192d8e3b07e8b0d89c5fd"
 },
 "nbformat": 3,
 "nbformat_minor": 0,
 "worksheets": [
  {
   "cells": [
    {
     "cell_type": "heading",
     "level": 1,
     "metadata": {},
     "source": [
      "Analyzing the NYC Subway Dataset"
     ]
    },
    {
     "cell_type": "heading",
     "level": 3,
     "metadata": {},
     "source": [
      "Section 0. References"
     ]
    },
    {
     "cell_type": "markdown",
     "metadata": {},
     "source": [
      "* [Intro to Data Science course on Udacity](https://udacity.com/course/ud359-nd)\n",
      "* [Foundations of Data Analysis course on edX](https://www.edx.org/course/foundations-data-analysis-utaustinx-ut-7-01x)\n",
      "* [Data Analysis and Statistical Inference course on Coursera](https://www.coursera.org/course/statistics)\n",
      "* [Statistical Inference course on Coursera](https://www.coursera.org/course/statinference)"
     ]
    },
    {
     "cell_type": "heading",
     "level": 3,
     "metadata": {},
     "source": [
      "Section 1. Statistical Test"
     ]
    },
    {
     "cell_type": "heading",
     "level": 6,
     "metadata": {},
     "source": [
      "1.1 Which statistical test did you use to analyse the NYC subway data? Did you use a one-tail or a two-tail P value? What is the null hypothesis? What is your p-critical value?"
     ]
    },
    {
     "cell_type": "markdown",
     "metadata": {},
     "source": [
      "I used the Mann-Whitney U-test to analyze the NYC subway data. The question was if there is any difference in subway ridership between rainy and non-rainy days. I used a two-tail P value because I was testing if there was a difference in any direction. The null hypothesis is that the hourly entries on rainy and on non-rainy days come from the same probability distribution. I will start with 0.05 as my threshold, which corresponds to the 95% confidence level."
     ]
    },
    {
     "cell_type": "heading",
     "level": 6,
     "metadata": {},
     "source": [
      "1.2 Why is this statistical test applicable to the dataset? In particular, consider the assumptions that the test is making about the distribution of ridership in the two samples."
     ]
    },
    {
     "cell_type": "markdown",
     "metadata": {},
     "source": [
      "The U-test is applicable to this dataset because the distributions are not normal, but seem to be exponential. The U-test should give more accurate results than the t-test because it makes no assumptions about the distributions of the two groups."
     ]
    },
    {
     "cell_type": "heading",
     "level": 6,
     "metadata": {},
     "source": [
      "1.3 What results did you get from this statistical test? These should include the following numerical values: p-values, as well as the means for each of the two samples under test."
     ]
    },
    {
     "cell_type": "markdown",
     "metadata": {},
     "source": [
      "U-statistic: 1924409167.0\n",
      "\n",
      "p-value: 0.05\n",
      "\n",
      "Mean of entries on rainy days: 1105.45\n",
      "\n",
      "Mean of entries on days without rain: 1090.28\n",
      "\n",
      "Because the data is long-tailed, some robust statistics for the two samples would also be useful:\n",
      "\n",
      "Rainy days median: 282\n",
      "\n",
      "Rainy days IQR: (41, 1103)\n",
      "\n",
      "Non-rainy days median: 278\n",
      "\n",
      "Non-rainy days IQR: (38, 1111)\n"
     ]
    },
    {
     "cell_type": "heading",
     "level": 6,
     "metadata": {},
     "source": [
      "1.4 What is the significance and interpretation of these results?"
     ]
    },
    {
     "cell_type": "markdown",
     "metadata": {},
     "source": [
      "The results seem to be statistically significant and the interpretation of the p-value is that if we assume that the null hypothesis is true, it would be very improbable to get identical or more extreme results if we repeated this procedure. Because the p-value is just under the threshold defined before applying the test, we should reject the null hypothesis."
     ]
    },
    {
     "cell_type": "heading",
     "level": 3,
     "metadata": {},
     "source": [
      "Section 2. Linear Regression"
     ]
    },
    {
     "cell_type": "heading",
     "level": 5,
     "metadata": {},
     "source": [
      "2.1 What approach did you use to compute the coefficients theta and produce prediction for ENTRIESn_hourly in your regression model?"
     ]
    },
    {
     "cell_type": "markdown",
     "metadata": {},
     "source": [
      "I used OLS from statsmodels to compute the coefficients for my regression model. I chose this method because it is the standard when dealing with data that fit in memory with relatively few (less than 1000) features."
     ]
    },
    {
     "cell_type": "heading",
     "level": 5,
     "metadata": {},
     "source": [
      "2.2 What features (input variables) did you use in your model? Did you use any dummy variables as part of your features?"
     ]
    },
    {
     "cell_type": "markdown",
     "metadata": {},
     "source": [
      "The features I used in the model are some weather variables - rain, fog, precipi and two dummy variables for unit and hour."
     ]
    },
    {
     "cell_type": "heading",
     "level": 5,
     "metadata": {},
     "source": [
      "2.3 Why did you select these features in your model?"
     ]
    },
    {
     "cell_type": "markdown",
     "metadata": {},
     "source": [
      "I selected the weather variables based on the intuition that they might be relevant to what we are trying to predict. Initially I didn't think that the collection unit would be relevant, but it seems to explain around 30% of the variance in the data, so I kept it in. I added the hour because I thought that the subway traffic would depend on it then converted it to a dummy, because it didn't make sense to use it as a continuous variable. I chose to add the hour and not the weekday to avoid overfitting, because there are few weekdays in the 30 day dataset (~4 of each)."
     ]
    },
    {
     "cell_type": "heading",
     "level": 5,
     "metadata": {},
     "source": [
      "2.4 What are the parameters (also known as \"coefficients\" or \"weights\") of the non-dummy features in your linear regression model?"
     ]
    },
    {
     "cell_type": "markdown",
     "metadata": {},
     "source": [
      "rain: 25.927895\n",
      "\n",
      "fog: 134.080278\n",
      "\n",
      "precipi: 12.778181"
     ]
    },
    {
     "cell_type": "heading",
     "level": 5,
     "metadata": {},
     "source": [
      "2.5 What is your model\u2019s R<sup>2</sup> (coefficients of determination) value?"
     ]
    },
    {
     "cell_type": "markdown",
     "metadata": {},
     "source": [
      "The model's R<sup>2</sup> is 0.52."
     ]
    },
    {
     "cell_type": "heading",
     "level": 5,
     "metadata": {},
     "source": [
      "2.6 What does this R<sup>2</sup> value mean for the goodness of fit for your regression model? Do you think this linear model to predict ridership is appropriate for this dataset, given this R<sup>2</sup>  value?"
     ]
    },
    {
     "cell_type": "markdown",
     "metadata": {},
     "source": [
      "The R<sup>2</sup> value is the ratio between the variability explained by the model and the variability in the quantity we are trying to predict. It takes values between 0 and 1 and larger values are better. R<sup>2</sup> is a way to quantify if this solution is better than having no model and predicting the mean every time. In this case, using the linear regression model seems to be better than having no model at all, though looking at the very small difference between ridership on rainy days, a domain expert is more qualified to say if such a model is useful. My main concern is that most of the variance is explained by the unit dummies, which could be a case of overfitting the model to this specific dataset. Also, some diagnostic plots for linear regression could help us see if the linear model is appropriate for the data.\n",
      "\n",
      "The distribution of the residuals looks normal with two long tails, one to the left and a longer right tail:\n",
      "\n",
      "<img alt=\"Two histograms for rainy and non-rainy days\" src=\"img/residuals_histogram.png\" width=\"640\", height=\"480\") />\n",
      "\n",
      "Let's see what happens if we zoom in on the right tail:\n",
      "\n",
      "<img alt=\"Two histograms for rainy and non-rainy days\" src=\"img/residuals_histogram_tail.png\" width=\"640\", height=\"480\") />\n",
      "\n",
      "There seem to be quite a few large errors, but rain doesn't seem to be related to them. There seems to be a more fundamental problem with the regression model. If we saw the residuals over time, we might get a few more insights. Unfortunately for around 150000 points a scatterplot makes a poor visualization, so a LOESS curve would be a better visualization:\n",
      "\n",
      "<img alt=\"Two histograms for rainy and non-rainy days\" src=\"img/residuals_over_time.png\" width=\"640\", height=\"480\") />\n",
      "\n",
      "There seems to be a seasonal pattern in the residuals, which the linear model in unequipped to deal with. One of the assumptions of the linear model is that the data points are independent, which is not the case here. The residuals ordered by any variable should exhibit the property of [Homoscedasticity](https://en.wikipedia.org/wiki/Homoscedasticity), which is clearly not the case here."
     ]
    },
    {
     "cell_type": "heading",
     "level": 3,
     "metadata": {},
     "source": [
      "Section 3. Visualization"
     ]
    },
    {
     "cell_type": "heading",
     "level": 5,
     "metadata": {},
     "source": [
      "3.1 One visualization should contain two histograms: one of  ENTRIESn_hourly for rainy days and one of ENTRIESn_hourly for non-rainy days."
     ]
    },
    {
     "cell_type": "markdown",
     "metadata": {},
     "source": [
      "<img alt=\"Two histograms for rainy and non-rainy days\" src=\"img/entries_by_weather.png\" width=\"640\", height=\"480\") />"
     ]
    },
    {
     "cell_type": "markdown",
     "metadata": {},
     "source": [
      "In this plot we can see the distribution of the hourly entries, which is the reason why I chose do do the nonparametric Mann-Whitney U-test instead of the t-test, which assumes that the data comes from a normal distribution. We also have two times more data for non-rainy days than for rainy ones. Class imbalances like this one might affect prediction algorithms, which will focus on obtaining better predictions on the majoritary class at the expense of the others."
     ]
    },
    {
     "cell_type": "heading",
     "level": 5,
     "metadata": {},
     "source": [
      "3.2 One visualization can be more freeform. You should feel free to implement something that we discussed in class."
     ]
    },
    {
     "cell_type": "markdown",
     "metadata": {},
     "source": [
      "<img alt=\"Scatterplot for entries by hour\" src=\"img/entries_by_hour_bar.png\" width=\"640\", height=\"480\") />"
     ]
    },
    {
     "cell_type": "markdown",
     "metadata": {},
     "source": [
      "In the distribution of entries by hour, there seems to be a hourly pattern, which reinforces the idea of including the hour as a feature in the regression model. Rain doesn't seem to have much effect here either."
     ]
    },
    {
     "cell_type": "heading",
     "level": 3,
     "metadata": {},
     "source": [
      "Section 4. Conclusion"
     ]
    },
    {
     "cell_type": "heading",
     "level": 5,
     "metadata": {},
     "source": [
      "4.1 From your analysis and interpretation of the data, do more people ride\n",
      "the NYC subway when it is raining or when it is not raining?"
     ]
    },
    {
     "cell_type": "markdown",
     "metadata": {},
     "source": [
      "The question was if weather, especially rain influences the number of people using the subway in New York City. After applying a statistical test with and rejecting the null hypothesis with a confidence of 95%, this could lead us to say that there is a statistically significant difference in subway ridership depending on weather. The short answer would be: yes, I am confident that more people are taking the subway when it is raining.\n",
      "\n",
      "However, a problem with statistical significance tests is that they don't take effect sizes into account. The p-value returned by the test is small because there are a lot of observations in the dataset, but is a relative difference of 1.3% significant to the person who will use these results to make a decision? It seems statistical significance and practical significance can be unrelated sometimes."
     ]
    },
    {
     "cell_type": "heading",
     "level": 5,
     "metadata": {},
     "source": [
      "4.2 What analyses lead you to this conclusion? You should use results from both your statistical\n",
      "tests and your linear regression to support your analysis."
     ]
    },
    {
     "cell_type": "markdown",
     "metadata": {},
     "source": [
      "I used the Mann-Whitney U-test to check the alternative hypothesis that there is a difference in the distribution of hourly subway entries depending on rain and I obtained a p-value of 0.05, which means that they could be significant, but this is not the final conclusion.\n",
      "\n",
      "In the linear regression model, when trying to predict subway ridership, most of the variance was explained by the turnstile collecting units and the hour. Had I used a model with only the weather variables, the model's R<sup>2</sup> would have been around 0.1. Also, taking a closer look at the regression model, the coefficients for the weather variables are an order of magnitude smaller than some of the coefficients from the unit and hour dummies. Moreover, the rain coefficient's value is 25.9 while its standard error is 38.5, which doesn't look like it is influencing much. Of course, the model might have multicollinearity issues, but even when adding the rain, fog and precipi coefficients, they don't approach the values of coefficients for hours or units."
     ]
    },
    {
     "cell_type": "heading",
     "level": 3,
     "metadata": {},
     "source": [
      "Section 5. Reflection"
     ]
    },
    {
     "cell_type": "heading",
     "level": 5,
     "metadata": {},
     "source": [
      "5.1 Please discuss potential shortcomings of the methods of your analysis"
     ]
    },
    {
     "cell_type": "markdown",
     "metadata": {},
     "source": [
      "The first shortcoming comes from the available data, we only have data for one month(May 2011) and this is insufficient to make reliable analyses that can be applicable to any period. If this May was particularly sunny, rainy, hot or cold, the results presented here are not generalizable even to May in another year, not even considering other months.\n",
      "\n",
      "In the statistical test, I only looked at two variables: rain and the number of subway entries. There might be some other variable correlated with rain that could explain the difference in ridership. This is a table of the number of hourly entries on weekdays:\n",
      "\n",
      " |Weekday| no rain| rain  |\n",
      " |-------|--------|-------|\n",
      " | Sun   |  17466 | 4333  |\n",
      " | Mon   |   8920 | 13322 |\n",
      " | Tues  |  13183 | 4412  |\n",
      " | Wed   |   8816 | 8822  |\n",
      " | Thurs |  13492 | 4503  |\n",
      " | Fri   |  12978 | 4364  |\n",
      " | Sat   |  12992 | 4348  |\n",
      " \n",
      "There are 5 Sundays in our dataset. One was May the 1st, a holiday. On some other Sundays there may be special events like concerts. If these things influence rideship, the counts will be added to the rain or no rain groups and influence the results of the comparison. Compounded with the fact that for the currently chosen significance level, the results are at the limit, it is easy to see how things like this can affect the results of the statistical test.\n",
      "\n",
      "Also, not having enough data about what people are actually doing is also limiting the range of questions we can ask. For example, what proportion of the people who are leaving their house are using the subway on rainy and non-rainy days? This question cannot be investigated using the current dataset.\n",
      "\n",
      "The linear regression method assumes that the errors are iid(independent and identically distributed) gaussians centered at 0. The residual plots showed that the residuals have a long tailed distribution. The residuals over time plot showed that there is a seasonal pattern unaccounted for by our data. \n",
      "\n",
      "This QQ plot of the residuals further illustrates the fact that the residuals we have are not normally distributed:\n",
      "\n",
      "<img alt=\"Residual QQ plot\" src=\"img/residualQQ.png\" width=\"640\", height=\"480\") />\n",
      "\n",
      "I didn't address outliers or missing data in any way, which may be an issue given the skewed distribution of the residuals.\n",
      "\n",
      "When building the regression model, including the units did lead to a much larger R<sup>2</sup> value than I could have obtained otherwise, but by using 465 dummy variables I might have overfit the training data."
     ]
    },
    {
     "cell_type": "heading",
     "level": 5,
     "metadata": {},
     "source": [
      "5.2 (Optional) Do you have any other insight about the dataset that you would like to share with us?"
     ]
    },
    {
     "cell_type": "markdown",
     "metadata": {},
     "source": [
      "There seem to be disproportionately more subway entries on Monday when it rains. Either Mondays had some pretty bad weather in our dataset or there is something else going on:\n",
      "\n",
      "<img alt=\"Scatterplot for entries by hour\" src=\"img/entries_by_weekday.png\" width=\"640\", height=\"480\") />"
     ]
    }
   ],
   "metadata": {}
  }
 ]
}