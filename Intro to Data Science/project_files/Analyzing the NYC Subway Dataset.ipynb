{
 "metadata": {
  "name": "",
  "signature": "sha256:c46d2c0fc9af9ee24ac9d0e757058cfea855afb333ce5494ba932f46f9b2c70d"
 },
 "nbformat": 3,
 "nbformat_minor": 0,
 "worksheets": [
  {
   "cells": [
    {
     "cell_type": "heading",
     "level": 1,
     "metadata": {},
     "source": [
      "Analyzing the NYC Subway Dataset"
     ]
    },
    {
     "cell_type": "heading",
     "level": 3,
     "metadata": {},
     "source": [
      "Section 1. Statistical Test"
     ]
    },
    {
     "cell_type": "heading",
     "level": 6,
     "metadata": {},
     "source": [
      "1.1 Which statistical test did you use to analyse the NYC subway data? Did you use a one-tail or a two-tail P value? What is the null hypothesis? What is your p-critical value?"
     ]
    },
    {
     "cell_type": "markdown",
     "metadata": {},
     "source": [
      "I used the Mann-Whitney u-test to analyze the NYC subway data. I used a two-tail P value because I was testing if the means of the two groups were different in any way, not a particular relationship between them. The null hypothesis is that there is no difference between the groups."
     ]
    },
    {
     "cell_type": "heading",
     "level": 6,
     "metadata": {},
     "source": [
      "1.2 Why is this statistical test applicable to the dataset? In particular, consider the assumptions that the test is making about the distribution of ridership in the two samples."
     ]
    },
    {
     "cell_type": "markdown",
     "metadata": {},
     "source": [
      "The u-test is applicable to this dataset because the distributions are not normal, but seem to be exponential. The test gives good results because it makes no assumptions about the distributions of the two groups."
     ]
    },
    {
     "cell_type": "heading",
     "level": 6,
     "metadata": {},
     "source": [
      "1.3 What results did you get from this statistical test? These should include the following numerical values: p-values, as well as the means for each of the two samples under test."
     ]
    },
    {
     "cell_type": "heading",
     "level": 6,
     "metadata": {},
     "source": [
      "1.4 What is the significance and interpretation of these results?"
     ]
    },
    {
     "cell_type": "heading",
     "level": 3,
     "metadata": {},
     "source": [
      "Section 2. Linear Regression"
     ]
    },
    {
     "cell_type": "heading",
     "level": 3,
     "metadata": {},
     "source": [
      "Section 3. Visualization"
     ]
    },
    {
     "cell_type": "heading",
     "level": 3,
     "metadata": {},
     "source": [
      "Section 4. Conclusion"
     ]
    }
   ],
   "metadata": {}
  }
 ]
}