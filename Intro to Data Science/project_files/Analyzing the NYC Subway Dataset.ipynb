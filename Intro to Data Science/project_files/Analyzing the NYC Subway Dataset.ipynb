{
 "metadata": {
  "name": "",
  "signature": "sha256:bc7f0bc99abb5456c72e0502987d7685503623aa48bbb658a0ad662ef9a0cd9e"
 },
 "nbformat": 3,
 "nbformat_minor": 0,
 "worksheets": [
  {
   "cells": [
    {
     "cell_type": "heading",
     "level": 1,
     "metadata": {},
     "source": [
      "Analyzing the NYC Subway Dataset"
     ]
    },
    {
     "cell_type": "heading",
     "level": 3,
     "metadata": {},
     "source": [
      "Section 0. References"
     ]
    },
    {
     "cell_type": "markdown",
     "metadata": {},
     "source": [
      "* [Intro to Data Science course on Udacity](https://udacity.com/course/ud359-nd)\n",
      "* [Foundations of Data Analysis course on edX](https://www.edx.org/course/foundations-data-analysis-utaustinx-ut-7-01x)\n",
      "* [Data Analysis and Statistical Inference course on Coursera](https://www.coursera.org/course/statistics)\n",
      "* [Statistical Inference course on Coursera](https://www.coursera.org/course/statinference)"
     ]
    },
    {
     "cell_type": "heading",
     "level": 3,
     "metadata": {},
     "source": [
      "Section 1. Statistical Test"
     ]
    },
    {
     "cell_type": "heading",
     "level": 6,
     "metadata": {},
     "source": [
      "1.1 Which statistical test did you use to analyse the NYC subway data? Did you use a one-tail or a two-tail P value? What is the null hypothesis? What is your p-critical value?"
     ]
    },
    {
     "cell_type": "markdown",
     "metadata": {},
     "source": [
      "I used the Mann-Whitney u-test to analyze the NYC subway data. I used a two-tail P value because I was testing if the means of the two groups were different in any way, not a particular relationship between them. The null hypothesis is that there is no difference between the groups."
     ]
    },
    {
     "cell_type": "heading",
     "level": 6,
     "metadata": {},
     "source": [
      "1.2 Why is this statistical test applicable to the dataset? In particular, consider the assumptions that the test is making about the distribution of ridership in the two samples."
     ]
    },
    {
     "cell_type": "markdown",
     "metadata": {},
     "source": [
      "The u-test is applicable to this dataset because the distributions are not normal, but seem to be exponential. The should give more accurate results than the t-test because it makes no assumptions about the distributions of the two groups."
     ]
    },
    {
     "cell_type": "heading",
     "level": 6,
     "metadata": {},
     "source": [
      "1.3 What results did you get from this statistical test? These should include the following numerical values: p-values, as well as the means for each of the two samples under test."
     ]
    },
    {
     "cell_type": "markdown",
     "metadata": {},
     "source": [
      "U-statistic: 1924409167.0\n",
      "\n",
      "p-value: 0.025\n",
      "\n",
      "Mean of entries on rainy days: 1105.45\n",
      "\n",
      "Mean of entries on days without rain: 1090.28"
     ]
    },
    {
     "cell_type": "heading",
     "level": 6,
     "metadata": {},
     "source": [
      "1.4 What is the significance and interpretation of these results?"
     ]
    },
    {
     "cell_type": "markdown",
     "metadata": {},
     "source": [
      "The results seem to be statistically significant and the interpretation is that if we assume that there is no difference in ridership on rainy days compared to days with no rain, it would be very improbable to get identical or more extreme results if we collected another dataset."
     ]
    },
    {
     "cell_type": "heading",
     "level": 3,
     "metadata": {},
     "source": [
      "Section 2. Linear Regression"
     ]
    },
    {
     "cell_type": "heading",
     "level": 5,
     "metadata": {},
     "source": [
      "2.1 What approach did you use to compute the coefficients theta and produce prediction for ENTRIESn_hourly in your regression model?"
     ]
    },
    {
     "cell_type": "markdown",
     "metadata": {},
     "source": [
      "I used OLS from statsmodels to compute the coefficients for my regression model."
     ]
    },
    {
     "cell_type": "heading",
     "level": 5,
     "metadata": {},
     "source": [
      "2.2 What features (input variables) did you use in your model? Did you use any dummy variables as part of your features?"
     ]
    },
    {
     "cell_type": "markdown",
     "metadata": {},
     "source": [
      "The features I used in the model are some weather variables - rain, fog, precipi and two dummy variables for unit and hour."
     ]
    },
    {
     "cell_type": "heading",
     "level": 5,
     "metadata": {},
     "source": [
      "2.3 Why did you select these features in your model?"
     ]
    },
    {
     "cell_type": "markdown",
     "metadata": {},
     "source": [
      "I selected the weather variables based on the intuition that they might be relevant to what we are trying to predict. Initially I didn't think that the collection unit would be relevant, but it seems to explain around 30% of the variance in the data, so I kept it in. I added the hour because I thought that the subway traffic would depend on it then converted it to a dummy, because it didn't make sense to use it as a continuous variable. "
     ]
    },
    {
     "cell_type": "heading",
     "level": 5,
     "metadata": {},
     "source": [
      "2.4 What are the parameters (also known as \"coefficients\" or \"weights\") of the non-dummy features in your linear regression model?"
     ]
    },
    {
     "cell_type": "markdown",
     "metadata": {},
     "source": [
      "rain: 25.927895\n",
      "\n",
      "fog: 134.080278\n",
      "\n",
      "precipi: 12.778181"
     ]
    },
    {
     "cell_type": "heading",
     "level": 5,
     "metadata": {},
     "source": [
      "2.5 What is your model\u2019s R<sup>2</sup> (coefficients of determination) value?"
     ]
    },
    {
     "cell_type": "markdown",
     "metadata": {},
     "source": [
      "The model's R<sup>2</sup> is 0.52."
     ]
    },
    {
     "cell_type": "heading",
     "level": 5,
     "metadata": {},
     "source": [
      "2.6 What does this R<sup>2</sup> value mean for the goodness of fit for your regression model? Do you think this linear model to predict ridership is appropriate for this dataset, given this R<sup>2</sup>  value?"
     ]
    },
    {
     "cell_type": "markdown",
     "metadata": {},
     "source": [
      "It seems to be better than having no model at all, though looking at the very small difference between ridership on rainy days, a domain expert is more qualified to say if such a model is appropriate. My main concern is that most of the variance is explained by the unit dummies, which could be a case of overfitting the model to this specific dataset."
     ]
    },
    {
     "cell_type": "heading",
     "level": 3,
     "metadata": {},
     "source": [
      "Section 3. Visualization"
     ]
    },
    {
     "cell_type": "heading",
     "level": 5,
     "metadata": {},
     "source": [
      "3.1 One visualization should contain two histograms: one of  ENTRIESn_hourly for rainy days and one of ENTRIESn_hourly for non-rainy days."
     ]
    },
    {
     "cell_type": "markdown",
     "metadata": {},
     "source": [
      "<img alt=\"Two histograms for rainy and non-rainy days\" src=\"img/entries_by_weather.png\" width=\"640\", height=\"480\") />"
     ]
    },
    {
     "cell_type": "heading",
     "level": 5,
     "metadata": {},
     "source": [
      "3.2 One visualization can be more freeform. You should feel free to implement something that we discussed in class."
     ]
    },
    {
     "cell_type": "markdown",
     "metadata": {},
     "source": [
      "<img alt=\"Scatterplot for entries by hour\" src=\"img/entries_by_hour.png\" width=\"640\", height=\"480\") />"
     ]
    },
    {
     "cell_type": "heading",
     "level": 3,
     "metadata": {},
     "source": [
      "Section 4. Conclusion"
     ]
    },
    {
     "cell_type": "heading",
     "level": 5,
     "metadata": {},
     "source": [
      "4.1 From your analysis and interpretation of the data, do more people ride\n",
      "the NYC subway when it is raining or when it is not raining?"
     ]
    },
    {
     "cell_type": "markdown",
     "metadata": {},
     "source": [
      "The question was if people use the subway more if it is raining and after performing a statistical test, judging by the p-value could lead us to say that there is a statistically significant difference in subway ridership depending on weather. The short answer would be: yes, I am confident that more people are taking the subway when it is raining.\n",
      "\n",
      "However, a problem with statistical significance tests is that they don't take effect sizes into account. The p-value returned by the test is small because there are a lot of observations in the dataset, but is a relative difference of 1.3% significant to the person who will use these results to make a decision? It seems statistical significance and practical significance can be unrelated sometimes. "
     ]
    },
    {
     "cell_type": "heading",
     "level": 5,
     "metadata": {},
     "source": [
      "4.2 What analyses lead you to this conclusion? You should use results from both your statistical\n",
      "tests and your linear regression to support your analysis."
     ]
    },
    {
     "cell_type": "markdown",
     "metadata": {},
     "source": [
      "I used the Mann-Whitney U-test to check the alternative hypothesis that more people are riding the subway on rainy days than on days with no rain and the results were significant, with a p-value of 0.025. In the linear regression model, when trying to predict subway ridership, most of the variance was explained by the turnstile collecting units and the hour. Had I used a model with only the weather variables, the model's R<sup>2</sup> would have been around 0.10. Also, taking a closer look at the regression model, the coefficients for the weather variables are an order of magnitude smaller than some of the coefficients from the unit and hour dummies."
     ]
    },
    {
     "cell_type": "heading",
     "level": 3,
     "metadata": {},
     "source": [
      "Section 5. Reflection"
     ]
    },
    {
     "cell_type": "heading",
     "level": 5,
     "metadata": {},
     "source": [
      "5.1 Please discuss potential shortcomings of the methods of your analysis"
     ]
    },
    {
     "cell_type": "markdown",
     "metadata": {},
     "source": [
      "* In the statistical test, I only looked at two variables: rain and the number of subway entries. There might be some other variable correlated with rain that could explain the difference in ridership\n",
      "* I didn't address outliers or missing data in any way\n",
      "* Building the regression model, including the units did lead to a much larger R<sup>2</sup> value than I could have obtained otherwise, but using 465 dummy variables for only 30 days of data might be a case of overfitting"
     ]
    },
    {
     "cell_type": "heading",
     "level": 5,
     "metadata": {},
     "source": [
      "5.2 (Optional) Do you have any other insight about the dataset that you would like to share with us?"
     ]
    },
    {
     "cell_type": "markdown",
     "metadata": {},
     "source": [
      "It is strange that the number of entries at 00:00 is much higher than at 23:00."
     ]
    }
   ],
   "metadata": {}
  }
 ]
}